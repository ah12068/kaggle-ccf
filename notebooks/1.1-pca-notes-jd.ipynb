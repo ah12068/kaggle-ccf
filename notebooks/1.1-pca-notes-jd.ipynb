{
 "cells": [
  {
   "cell_type": "code",
   "execution_count": 1,
   "metadata": {
    "ExecuteTime": {
     "end_time": "2020-04-11T11:24:16.456065Z",
     "start_time": "2020-04-11T11:24:15.861974Z"
    }
   },
   "outputs": [],
   "source": [
    "import numpy as np\n",
    "import pandas as pd\n",
    "from sklearn.decomposition import PCA\n",
    "pd.set_option('display.float_format', '{:.5f}'.format)"
   ]
  },
  {
   "cell_type": "markdown",
   "metadata": {},
   "source": [
    "Let X be the training data set, rows are samples and columns are samples"
   ]
  },
  {
   "cell_type": "code",
   "execution_count": 2,
   "metadata": {
    "ExecuteTime": {
     "end_time": "2020-04-11T11:24:16.462605Z",
     "start_time": "2020-04-11T11:24:16.457812Z"
    }
   },
   "outputs": [
    {
     "name": "stdout",
     "output_type": "stream",
     "text": [
      "[[1. 0. 0. 0.]\n",
      " [0. 1. 0. 0.]\n",
      " [0. 0. 1. 0.]\n",
      " [0. 0. 0. 1.]]\n"
     ]
    }
   ],
   "source": [
    "X = np.eye(4)\n",
    "print(X)"
   ]
  },
  {
   "cell_type": "markdown",
   "metadata": {},
   "source": [
    "Principal Components Analysis (PCA) is a linear transformation that attempts to create a lower dimensional form of some data while retaining maximum information (i.e maximise variance)\n",
    "\n",
    "(suppose 100 dimensions but we want to squeeze out all the information in those 100 dimensions into 3 dimensions, maximising variance collects the most 'uniqueness' (i.e unique linear combinations i.e principal components) from 100 dimensions into 3 dimensions)"
   ]
  },
  {
   "cell_type": "code",
   "execution_count": 3,
   "metadata": {
    "ExecuteTime": {
     "end_time": "2020-04-11T11:24:16.474044Z",
     "start_time": "2020-04-11T11:24:16.467621Z"
    }
   },
   "outputs": [],
   "source": [
    "pca = PCA(n_components=X.shape[1])"
   ]
  },
  {
   "cell_type": "code",
   "execution_count": 4,
   "metadata": {
    "ExecuteTime": {
     "end_time": "2020-04-11T11:24:16.480899Z",
     "start_time": "2020-04-11T11:24:16.476281Z"
    }
   },
   "outputs": [
    {
     "name": "stdout",
     "output_type": "stream",
     "text": [
      "PCA Transformed data \n",
      "\n",
      " [[-1.94283606e-17  7.76889138e-17  8.66025404e-01  5.55111512e-17]\n",
      " [ 8.16496581e-01  9.90037857e-17 -2.88675135e-01  5.55111512e-17]\n",
      " [-4.08248290e-01  7.07106781e-01 -2.88675135e-01  5.55111512e-17]\n",
      " [-4.08248290e-01 -7.07106781e-01 -2.88675135e-01  5.55111512e-17]]\n",
      "\n",
      "Variance explained ratio: \n",
      "\n",
      " [3.33333333e-01 3.33333333e-01 3.33333333e-01 4.10865055e-33]\n"
     ]
    }
   ],
   "source": [
    "print(f'PCA Transformed data \\n\\n {pca.fit_transform(X)}\\n')\n",
    "print(f'Variance explained ratio: \\n\\n {pca.explained_variance_ratio_}')"
   ]
  },
  {
   "cell_type": "markdown",
   "metadata": {},
   "source": [
    "Inspecting the variance explained, we can see that PC(1), PC(2) and PC(3) [principal component i] account for 33% of the variance in the data "
   ]
  },
  {
   "cell_type": "code",
   "execution_count": 5,
   "metadata": {
    "ExecuteTime": {
     "end_time": "2020-04-11T11:24:16.494716Z",
     "start_time": "2020-04-11T11:24:16.482711Z"
    }
   },
   "outputs": [
    {
     "name": "stdout",
     "output_type": "stream",
     "text": [
      "These are the eigen vectors computed (sorted by eigenvalues in descending order) for each component we set from X, i.e 4\n"
     ]
    },
    {
     "data": {
      "text/plain": [
       "array([[ 3.92523115e-17,  8.16496581e-01, -4.08248290e-01,\n",
       "        -4.08248290e-01],\n",
       "       [-0.00000000e+00,  2.62681588e-16,  7.07106781e-01,\n",
       "        -7.07106781e-01],\n",
       "       [ 8.66025404e-01, -2.88675135e-01, -2.88675135e-01,\n",
       "        -2.88675135e-01],\n",
       "       [-5.00000000e-01, -5.00000000e-01, -5.00000000e-01,\n",
       "        -5.00000000e-01]])"
      ]
     },
     "execution_count": 5,
     "metadata": {},
     "output_type": "execute_result"
    }
   ],
   "source": [
    "print(f'These are the eigen vectors computed (sorted by eigenvalues in descending order) for each component we set from X, i.e {pca.n_components_}')\n",
    "pca.components_"
   ]
  },
  {
   "cell_type": "code",
   "execution_count": 6,
   "metadata": {
    "ExecuteTime": {
     "end_time": "2020-04-11T11:24:16.500597Z",
     "start_time": "2020-04-11T11:24:16.496550Z"
    }
   },
   "outputs": [
    {
     "name": "stdout",
     "output_type": "stream",
     "text": [
      "These are the eigen values (sorted largest to smallest) for each component we set from X, i.e 4\n"
     ]
    },
    {
     "data": {
      "text/plain": [
       "array([3.33333333e-01, 3.33333333e-01, 3.33333333e-01, 4.10865055e-33])"
      ]
     },
     "execution_count": 6,
     "metadata": {},
     "output_type": "execute_result"
    }
   ],
   "source": [
    "print(f'These are the eigen values (sorted largest to smallest) for each component we set from X, i.e {pca.n_components_}')\n",
    "pca.explained_variance_"
   ]
  },
  {
   "cell_type": "code",
   "execution_count": 7,
   "metadata": {
    "ExecuteTime": {
     "end_time": "2020-04-11T11:24:16.506961Z",
     "start_time": "2020-04-11T11:24:16.502183Z"
    }
   },
   "outputs": [
    {
     "name": "stdout",
     "output_type": "stream",
     "text": [
      "SKLearn performs eigenvalue decomposition and sorts by desc e-val on e-vec matrix \n",
      "and transposes so each row is an e-vec \n",
      "DOES NOT NORMALIZE\n"
     ]
    },
    {
     "data": {
      "text/plain": [
       "array([[ 0.00000000e+00, -2.77555756e-17,  8.66025404e-01,\n",
       "         1.11022302e-16],\n",
       "       [ 8.16496581e-01,  2.22044605e-16, -2.88675135e-01,\n",
       "        -2.77555756e-17],\n",
       "       [-4.08248290e-01,  7.07106781e-01, -2.88675135e-01,\n",
       "        -1.38777878e-16],\n",
       "       [-4.08248290e-01, -7.07106781e-01, -2.88675135e-01,\n",
       "        -5.55111512e-17]])"
      ]
     },
     "execution_count": 7,
     "metadata": {},
     "output_type": "execute_result"
    }
   ],
   "source": [
    "print(f'SKLearn performs eigenvalue decomposition and sorts by desc e-val on e-vec matrix \\nand transposes so each row is an e-vec \\nDOES NOT NORMALIZE')\n",
    "pca.transform(X)"
   ]
  },
  {
   "cell_type": "markdown",
   "metadata": {},
   "source": [
    "#### Check if fit_transform() is np.dot(X, pca.transform())"
   ]
  },
  {
   "cell_type": "code",
   "execution_count": 8,
   "metadata": {
    "ExecuteTime": {
     "end_time": "2020-04-11T11:24:16.513800Z",
     "start_time": "2020-04-11T11:24:16.509334Z"
    }
   },
   "outputs": [
    {
     "data": {
      "text/plain": [
       "array([[ 0.00000000e+00, -2.77555756e-17,  8.66025404e-01,\n",
       "         1.11022302e-16],\n",
       "       [ 8.16496581e-01,  2.22044605e-16, -2.88675135e-01,\n",
       "        -2.77555756e-17],\n",
       "       [-4.08248290e-01,  7.07106781e-01, -2.88675135e-01,\n",
       "        -1.38777878e-16],\n",
       "       [-4.08248290e-01, -7.07106781e-01, -2.88675135e-01,\n",
       "        -5.55111512e-17]])"
      ]
     },
     "execution_count": 8,
     "metadata": {},
     "output_type": "execute_result"
    }
   ],
   "source": [
    "np.dot(X, pca.transform(X))"
   ]
  },
  {
   "cell_type": "markdown",
   "metadata": {},
   "source": [
    "#### Manually calculate pca"
   ]
  },
  {
   "cell_type": "code",
   "execution_count": 9,
   "metadata": {
    "ExecuteTime": {
     "end_time": "2020-04-11T11:24:16.521553Z",
     "start_time": "2020-04-11T11:24:16.516022Z"
    }
   },
   "outputs": [
    {
     "name": "stdout",
     "output_type": "stream",
     "text": [
      "PCA class centers your data, but NO NORMALIZATION\n"
     ]
    },
    {
     "data": {
      "text/plain": [
       "array([[ 0.75, -0.25, -0.25, -0.25],\n",
       "       [-0.25,  0.75, -0.25, -0.25],\n",
       "       [-0.25, -0.25,  0.75, -0.25],\n",
       "       [-0.25, -0.25, -0.25,  0.75]])"
      ]
     },
     "execution_count": 9,
     "metadata": {},
     "output_type": "execute_result"
    }
   ],
   "source": [
    "print(f'PCA class centers your data, but NO NORMALIZATION')\n",
    "X_t = X - X.mean(axis=1).reshape(X.shape[0],1)\n",
    "X_t"
   ]
  },
  {
   "cell_type": "markdown",
   "metadata": {},
   "source": [
    "#### Eigen decomposition"
   ]
  },
  {
   "cell_type": "code",
   "execution_count": 10,
   "metadata": {
    "ExecuteTime": {
     "end_time": "2020-04-11T11:24:16.527830Z",
     "start_time": "2020-04-11T11:24:16.523212Z"
    }
   },
   "outputs": [
    {
     "data": {
      "text/plain": [
       "array([[ 0.25      , -0.08333333, -0.08333333, -0.08333333],\n",
       "       [-0.08333333,  0.25      , -0.08333333, -0.08333333],\n",
       "       [-0.08333333, -0.08333333,  0.25      , -0.08333333],\n",
       "       [-0.08333333, -0.08333333, -0.08333333,  0.25      ]])"
      ]
     },
     "execution_count": 10,
     "metadata": {},
     "output_type": "execute_result"
    }
   ],
   "source": [
    "S = X_t @ X_t.T / (X.shape[0]-1)\n",
    "S"
   ]
  },
  {
   "cell_type": "code",
   "execution_count": 11,
   "metadata": {
    "ExecuteTime": {
     "end_time": "2020-04-11T11:24:16.536536Z",
     "start_time": "2020-04-11T11:24:16.529343Z"
    }
   },
   "outputs": [
    {
     "name": "stdout",
     "output_type": "stream",
     "text": [
      "[3.33333333e-01 1.38777878e-17 3.33333333e-01 3.33333333e-01]\n",
      "\n",
      "\n",
      "[[ 0.8660254  -0.28867513 -0.28867513 -0.28867513]\n",
      " [-0.5        -0.5        -0.5        -0.5       ]\n",
      " [-0.21575849  0.83906078 -0.14556019 -0.47774211]\n",
      " [ 0.08864522 -0.3447314  -0.52022854  0.77631472]]\n"
     ]
    }
   ],
   "source": [
    "e_val, e_vecs = np.linalg.eig(S)\n",
    "print(f'{e_val}\\n\\n')\n",
    "print(f'{e_vecs.T}')"
   ]
  },
  {
   "cell_type": "code",
   "execution_count": 12,
   "metadata": {
    "ExecuteTime": {
     "end_time": "2020-04-11T11:24:16.544018Z",
     "start_time": "2020-04-11T11:24:16.540536Z"
    }
   },
   "outputs": [
    {
     "name": "stdout",
     "output_type": "stream",
     "text": [
      "[3 0 2 1]\n"
     ]
    }
   ],
   "source": [
    "idx = e_val.argsort()[::-1]\n",
    "print(idx)"
   ]
  },
  {
   "cell_type": "code",
   "execution_count": 13,
   "metadata": {
    "ExecuteTime": {
     "end_time": "2020-04-11T11:24:16.552704Z",
     "start_time": "2020-04-11T11:24:16.545820Z"
    }
   },
   "outputs": [
    {
     "data": {
      "text/plain": [
       "array([3.33333333e-01, 3.33333333e-01, 3.33333333e-01, 1.38777878e-17])"
      ]
     },
     "execution_count": 13,
     "metadata": {},
     "output_type": "execute_result"
    }
   ],
   "source": [
    "e_val_sorted = e_val[idx]\n",
    "e_val_sorted"
   ]
  },
  {
   "cell_type": "code",
   "execution_count": 14,
   "metadata": {
    "ExecuteTime": {
     "end_time": "2020-04-11T11:24:16.559108Z",
     "start_time": "2020-04-11T11:24:16.554164Z"
    }
   },
   "outputs": [
    {
     "data": {
      "text/plain": [
       "array([[ 0.8660254 , -0.28867513, -0.28867513, -0.28867513],\n",
       "       [ 0.08864522, -0.3447314 , -0.52022854,  0.77631472],\n",
       "       [-0.21575849,  0.83906078, -0.14556019, -0.47774211],\n",
       "       [-0.5       , -0.5       , -0.5       , -0.5       ]])"
      ]
     },
     "execution_count": 14,
     "metadata": {},
     "output_type": "execute_result"
    }
   ],
   "source": [
    "e_vecs_sorted = e_vecs[:,np.argsort(-e_val)]\n",
    "e_vecs_sorted.T "
   ]
  },
  {
   "cell_type": "code",
   "execution_count": 15,
   "metadata": {
    "ExecuteTime": {
     "end_time": "2020-04-11T11:24:16.565681Z",
     "start_time": "2020-04-11T11:24:16.560894Z"
    }
   },
   "outputs": [
    {
     "data": {
      "text/plain": [
       "array([[ 0.8660254 ,  0.08864522, -0.21575849,  0.        ],\n",
       "       [-0.28867513, -0.3447314 ,  0.83906078,  0.        ],\n",
       "       [-0.28867513, -0.52022854, -0.14556019,  0.        ],\n",
       "       [-0.28867513,  0.77631472, -0.47774211,  0.        ]])"
      ]
     },
     "execution_count": 15,
     "metadata": {},
     "output_type": "execute_result"
    }
   ],
   "source": [
    "(e_vecs_sorted.T @ X_t).T"
   ]
  }
 ],
 "metadata": {
  "kernelspec": {
   "display_name": "Python 3",
   "language": "python",
   "name": "python3"
  },
  "language_info": {
   "codemirror_mode": {
    "name": "ipython",
    "version": 3
   },
   "file_extension": ".py",
   "mimetype": "text/x-python",
   "name": "python",
   "nbconvert_exporter": "python",
   "pygments_lexer": "ipython3",
   "version": "3.7.5"
  },
  "latex_envs": {
   "LaTeX_envs_menu_present": true,
   "autoclose": false,
   "autocomplete": true,
   "bibliofile": "biblio.bib",
   "cite_by": "apalike",
   "current_citInitial": 1,
   "eqLabelWithNumbers": true,
   "eqNumInitial": 1,
   "hotkeys": {
    "equation": "Ctrl-E",
    "itemize": "Ctrl-I"
   },
   "labels_anchors": false,
   "latex_user_defs": false,
   "report_style_numbering": false,
   "user_envs_cfg": false
  },
  "varInspector": {
   "cols": {
    "lenName": 16,
    "lenType": 16,
    "lenVar": 40
   },
   "kernels_config": {
    "python": {
     "delete_cmd_postfix": "",
     "delete_cmd_prefix": "del ",
     "library": "var_list.py",
     "varRefreshCmd": "print(var_dic_list())"
    },
    "r": {
     "delete_cmd_postfix": ") ",
     "delete_cmd_prefix": "rm(",
     "library": "var_list.r",
     "varRefreshCmd": "cat(var_dic_list()) "
    }
   },
   "types_to_exclude": [
    "module",
    "function",
    "builtin_function_or_method",
    "instance",
    "_Feature"
   ],
   "window_display": false
  }
 },
 "nbformat": 4,
 "nbformat_minor": 4
}
